{
 "cells": [
  {
   "cell_type": "code",
   "execution_count": 1,
   "id": "b51e7d1b",
   "metadata": {},
   "outputs": [],
   "source": [
    "#Load env variables and create client\n",
    "from dotenv import load_dotenv\n",
    "import os\n",
    "\n",
    "load_dotenv()\n",
    "\n",
    "\n",
    "api_key = os.getenv(\"ANTHROPIC_API_KEY\")\n",
    "\n",
    "if not api_key:\n",
    "    raise ValueError(\"API key not found. Check your .env file.\")\n",
    "\n",
    "#Create an API client\n",
    "from anthropic import Anthropic\n",
    "\n",
    "client = Anthropic(api_key=api_key)\n",
    "model =\"claude-sonnet-4-0\""
   ]
  },
  {
   "cell_type": "code",
   "execution_count": 5,
   "id": "44537ea0",
   "metadata": {},
   "outputs": [],
   "source": [
    "#Helper Functions\n",
    "def add_user_message(messages, text):\n",
    "    user_message = {\"role\": \"user\", \"content\": text}\n",
    "    messages.append(user_message)\n",
    "\n",
    "def add_assistant_message(messages, text):\n",
    "    assistant_message = {\"role\": \"assistant\", \"content\": text}\n",
    "    messages.append(assistant_message)\n",
    "\n",
    "\n",
    "#make a request to Claude\n",
    "def chat(messages, system=None, temperature=1.0, stop_sequences=[] ):\n",
    "    params= {\n",
    "        \"model\": model,\n",
    "        \"max_tokens\": 1000,\n",
    "        \"messages\": messages,\n",
    "        \"temperature\": temperature,\n",
    "        \"stop_sequences\": stop_sequences\n",
    "    }\n",
    "\n",
    "    if system:\n",
    "        params[\"system\"] = system\n",
    "    \n",
    "    message = client.messages.create(**params)\n",
    "    return message.content[0].text\n"
   ]
  },
  {
   "cell_type": "code",
   "execution_count": 4,
   "id": "18728d1e",
   "metadata": {},
   "outputs": [
    {
     "data": {
      "text/plain": [
       "' it contains almost twice as much caffeine as tea. The average cup of black coffee contains 95-200mg of caffeine, while black tea contains about 40-70mg. This makes coffee more effective at helping you wake up and feel alert in the morning.\\n\\nThat said, tea isn\\'t necessarily \"worse\" - it depends on your personal preferences and needs:\\n\\n**Coffee advantages:**\\n- Higher caffeine content for alertness\\n- Rich, bold flavor many find satisfying\\n- Can suppress appetite if you\\'re not hungry in the morning\\n\\n**Tea advantages:**\\n- More gentle, gradual energy boost\\n- Contains L-theanine, which can provide calm focus\\n- Lighter on the stomach\\n- More variety in flavors and caffeine levels\\n\\nBoth can be part of a healthy breakfast routine. Your choice might depend on how much caffeine you want, how your stomach handles each one, and simply which taste you prefer to start your day.'"
      ]
     },
     "execution_count": 4,
     "metadata": {},
     "output_type": "execute_result"
    }
   ],
   "source": [
    "messages = []\n",
    "\n",
    "add_user_message(messages, \"Is tea or coffee better at breakfast?\")\n",
    "\n",
    "add_assistant_message(messages, \"Coffee is better because\")\n",
    "\n",
    "answer = chat(messages)\n",
    "\n",
    "answer"
   ]
  },
  {
   "cell_type": "code",
   "execution_count": 9,
   "id": "d52d44a3",
   "metadata": {},
   "outputs": [
    {
     "data": {
      "text/plain": [
       "'1, 2, 3, 4'"
      ]
     },
     "execution_count": 9,
     "metadata": {},
     "output_type": "execute_result"
    }
   ],
   "source": [
    "messages = []\n",
    "\n",
    "add_user_message(messages, \"Count from 1 to 10\")\n",
    "\n",
    "answer = chat(messages, stop_sequences=[\", 5\"])\n",
    "\n",
    "answer"
   ]
  },
  {
   "cell_type": "code",
   "execution_count": 10,
   "id": "d98c1c6c",
   "metadata": {},
   "outputs": [
    {
     "data": {
      "text/plain": [
       "'\\n{\\n  \"Name\": \"OrderProcessingRule\",\\n  \"EventPattern\": {\\n    \"source\": [\"myapp.orders\"],\\n    \"detail-type\": [\"Order Placed\"]\\n  },\\n  \"State\": \"ENABLED\",\\n  \"Targets\": [\\n    {\\n      \"Id\": \"1\",\\n      \"Arn\": \"arn:aws:lambda:us-east-1:123456789012:function:ProcessOrder\"\\n    }\\n  ]\\n}\\n'"
      ]
     },
     "execution_count": 10,
     "metadata": {},
     "output_type": "execute_result"
    }
   ],
   "source": [
    "messages = []\n",
    "\n",
    "add_user_message(messages, \"Generate a very short event bridge rule as json\")\n",
    "add_assistant_message(messages, \"```json\")\n",
    "\n",
    "text = chat(messages, stop_sequences=[\"```\"])\n",
    "text"
   ]
  },
  {
   "cell_type": "code",
   "execution_count": 11,
   "id": "396e3159",
   "metadata": {},
   "outputs": [
    {
     "data": {
      "text/plain": [
       "{'Name': 'OrderProcessingRule',\n",
       " 'EventPattern': {'source': ['myapp.orders'], 'detail-type': ['Order Placed']},\n",
       " 'State': 'ENABLED',\n",
       " 'Targets': [{'Id': '1',\n",
       "   'Arn': 'arn:aws:lambda:us-east-1:123456789012:function:ProcessOrder'}]}"
      ]
     },
     "execution_count": 11,
     "metadata": {},
     "output_type": "execute_result"
    }
   ],
   "source": [
    "import json\n",
    "\n",
    "json.loads(text.strip())"
   ]
  },
  {
   "cell_type": "code",
   "execution_count": 25,
   "id": "96a2f1fc",
   "metadata": {},
   "outputs": [
    {
     "data": {
      "text/plain": [
       "'aws s3 ls\\n\\naws ec2 describe-instances\\n\\naws iam list-users'"
      ]
     },
     "execution_count": 25,
     "metadata": {},
     "output_type": "execute_result"
    }
   ],
   "source": [
    "messages = []\n",
    "\n",
    "prompt = \"\"\"Generate three different sample AWS CLI commands. Each should be very short\"\"\"\n",
    "\n",
    "add_user_message(messages, prompt)\n",
    "\n",
    "add_assistant_message(messages, \"Here are all three commands in a single block without any comments \\n```bash\")\n",
    "\n",
    "\n",
    "text = chat(messages, stop_sequences=[\"```\"])\n",
    "\n",
    "text.strip()"
   ]
  },
  {
   "cell_type": "code",
   "execution_count": 24,
   "id": "c86f3474",
   "metadata": {},
   "outputs": [
    {
     "data": {
      "text/markdown": [
       "\n",
       "aws s3 ls\n",
       "\n",
       "aws ec2 describe-instances\n",
       "\n",
       "aws iam list-users\n",
       "```"
      ],
      "text/plain": [
       "<IPython.core.display.Markdown object>"
      ]
     },
     "execution_count": 24,
     "metadata": {},
     "output_type": "execute_result"
    }
   ],
   "source": [
    "from IPython.display import Markdown\n",
    "\n",
    "Markdown(text)"
   ]
  }
 ],
 "metadata": {
  "kernelspec": {
   "display_name": "venv",
   "language": "python",
   "name": "python3"
  },
  "language_info": {
   "codemirror_mode": {
    "name": "ipython",
    "version": 3
   },
   "file_extension": ".py",
   "mimetype": "text/x-python",
   "name": "python",
   "nbconvert_exporter": "python",
   "pygments_lexer": "ipython3",
   "version": "3.13.5"
  }
 },
 "nbformat": 4,
 "nbformat_minor": 5
}
