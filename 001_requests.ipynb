{
 "cells": [
  {
   "cell_type": "code",
   "execution_count": 2,
   "id": "3951a822",
   "metadata": {},
   "outputs": [
    {
     "name": "stdout",
     "output_type": "stream",
     "text": [
      "Requirement already satisfied: anthropic in /Users/Jacko/Development/Current Projects/venv/lib/python3.13/site-packages (0.57.1)\n",
      "Requirement already satisfied: python-dotenv in /Users/Jacko/Development/Current Projects/venv/lib/python3.13/site-packages (1.1.1)\n",
      "Requirement already satisfied: anyio<5,>=3.5.0 in /Users/Jacko/Development/Current Projects/venv/lib/python3.13/site-packages (from anthropic) (4.9.0)\n",
      "Requirement already satisfied: distro<2,>=1.7.0 in /Users/Jacko/Development/Current Projects/venv/lib/python3.13/site-packages (from anthropic) (1.9.0)\n",
      "Requirement already satisfied: httpx<1,>=0.25.0 in /Users/Jacko/Development/Current Projects/venv/lib/python3.13/site-packages (from anthropic) (0.28.1)\n",
      "Requirement already satisfied: jiter<1,>=0.4.0 in /Users/Jacko/Development/Current Projects/venv/lib/python3.13/site-packages (from anthropic) (0.10.0)\n",
      "Requirement already satisfied: pydantic<3,>=1.9.0 in /Users/Jacko/Development/Current Projects/venv/lib/python3.13/site-packages (from anthropic) (2.11.7)\n",
      "Requirement already satisfied: sniffio in /Users/Jacko/Development/Current Projects/venv/lib/python3.13/site-packages (from anthropic) (1.3.1)\n",
      "Requirement already satisfied: typing-extensions<5,>=4.10 in /Users/Jacko/Development/Current Projects/venv/lib/python3.13/site-packages (from anthropic) (4.14.1)\n",
      "Requirement already satisfied: idna>=2.8 in /Users/Jacko/Development/Current Projects/venv/lib/python3.13/site-packages (from anyio<5,>=3.5.0->anthropic) (3.10)\n",
      "Requirement already satisfied: certifi in /Users/Jacko/Development/Current Projects/venv/lib/python3.13/site-packages (from httpx<1,>=0.25.0->anthropic) (2025.7.9)\n",
      "Requirement already satisfied: httpcore==1.* in /Users/Jacko/Development/Current Projects/venv/lib/python3.13/site-packages (from httpx<1,>=0.25.0->anthropic) (1.0.9)\n",
      "Requirement already satisfied: h11>=0.16 in /Users/Jacko/Development/Current Projects/venv/lib/python3.13/site-packages (from httpcore==1.*->httpx<1,>=0.25.0->anthropic) (0.16.0)\n",
      "Requirement already satisfied: annotated-types>=0.6.0 in /Users/Jacko/Development/Current Projects/venv/lib/python3.13/site-packages (from pydantic<3,>=1.9.0->anthropic) (0.7.0)\n",
      "Requirement already satisfied: pydantic-core==2.33.2 in /Users/Jacko/Development/Current Projects/venv/lib/python3.13/site-packages (from pydantic<3,>=1.9.0->anthropic) (2.33.2)\n",
      "Requirement already satisfied: typing-inspection>=0.4.0 in /Users/Jacko/Development/Current Projects/venv/lib/python3.13/site-packages (from pydantic<3,>=1.9.0->anthropic) (0.4.1)\n",
      "Note: you may need to restart the kernel to use updated packages.\n"
     ]
    }
   ],
   "source": [
    "#Install dependencies\n",
    "%pip install anthropic python-dotenv"
   ]
  },
  {
   "cell_type": "code",
   "execution_count": 3,
   "id": "2dd67733",
   "metadata": {},
   "outputs": [
    {
     "data": {
      "text/plain": [
       "True"
      ]
     },
     "execution_count": 3,
     "metadata": {},
     "output_type": "execute_result"
    }
   ],
   "source": [
    "#Load environment variables\n",
    "from dotenv import load_dotenv\n",
    "\n",
    "load_dotenv()"
   ]
  },
  {
   "cell_type": "code",
   "execution_count": 4,
   "id": "b88ecf3c",
   "metadata": {},
   "outputs": [],
   "source": [
    "#Create an API client\n",
    "from anthropic import Anthropic\n",
    "\n",
    "client = Anthropic()\n",
    "model =\"claude-sonnet-4-0\""
   ]
  },
  {
   "cell_type": "code",
   "execution_count": 34,
   "id": "97777d32",
   "metadata": {},
   "outputs": [],
   "source": [
    "def add_user_message(messages, text):\n",
    "    user_message = {\"role\": \"user\", \"content\": text}\n",
    "    messages.append(user_message)\n",
    "\n",
    "def add_assistant_message(messages, text):\n",
    "    assistant_message = {\"role\": \"assistant\", \"content\": text}\n",
    "    messages.append(assistant_message)\n",
    "\n",
    "\n",
    "#make a request to Claude\n",
    "def chat(messages):\n",
    "    message = client.messages.create(\n",
    "        model=model,\n",
    "        max_tokens=1000,\n",
    "        messages=messages\n",
    "    )\n",
    "    return message.content[0].text\n"
   ]
  },
  {
   "cell_type": "code",
   "execution_count": 38,
   "id": "d6b109c0",
   "metadata": {},
   "outputs": [
    {
     "data": {
      "text/plain": [
       "'Quantum computers use quantum bits (qubits) that can exist in multiple states simultaneously, unlike classical bits that are limited to being either 0 or 1, enabling them to perform many calculations in parallel.'"
      ]
     },
     "execution_count": 38,
     "metadata": {},
     "output_type": "execute_result"
    }
   ],
   "source": [
    "#Make a starting list of messages\n",
    "messages = []\n",
    "\n",
    "#add in the initial user question of \"Define quantum computing in one sentence\"\n",
    "add_user_message(messages, \"Define quantum computing in one sentence\")\n",
    "\n",
    "#pass the list of messages into 'chat' to get an answer\n",
    "answer = chat(messages)\n",
    "\n",
    "\n",
    "# # #Take the answer and add it as an assistant message into our list\n",
    "add_assistant_message(messages, answer)\n",
    "\n",
    "# messages\n",
    "# #add in the user's follow up question\n",
    "add_user_message(messages, \"Write another sentence\")\n",
    "\n",
    "# #call chat again with the list of messages to get a final answer\n",
    "answer = chat(messages)\n",
    "\n",
    "answer\n",
    "#call chat again with the list of messages to get a final answer\n",
    "#"
   ]
  }
 ],
 "metadata": {
  "kernelspec": {
   "display_name": "venv",
   "language": "python",
   "name": "python3"
  },
  "language_info": {
   "codemirror_mode": {
    "name": "ipython",
    "version": 3
   },
   "file_extension": ".py",
   "mimetype": "text/x-python",
   "name": "python",
   "nbconvert_exporter": "python",
   "pygments_lexer": "ipython3",
   "version": "3.13.5"
  }
 },
 "nbformat": 4,
 "nbformat_minor": 5
}
